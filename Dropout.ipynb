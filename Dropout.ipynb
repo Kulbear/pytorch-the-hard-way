{
 "cells": [
  {
   "cell_type": "markdown",
   "metadata": {},
   "source": [
    "# Dropout regularization\n",
    "\n",
    "In machine learning,\n",
    "our goal is to discover general patterns.\n",
    "For example, we might want to learn an association between genetic markers\n",
    "and the development of dementia in adulthood. \n",
    "Our hope would be to uncover a pattern that could be applied successfully to assess risk for the entire population.\n",
    "\n",
    "However, when we train models, we don't have access to the entire population (or current or potential humans).\n",
    "Instead, we can access only a small, finite sample.\n",
    "Even in a large hospital system, we might get hundreds of thousands of medical records. \n",
    "Given such a finite sample size, it's possible to uncover spurious associations \n",
    "that don't hold up for unseen data.\n",
    "\n",
    "Let's consider an extreme pathological case. \n",
    "Imagine that you want to learn to predict\n",
    "which people will repay their loans. \n",
    "A lender hires you as a data scientist \n",
    "to investigate the case and gives you complete files on 100 applicants,\n",
    "of which 5 defaulted on their loans within 3 years. \n",
    "The files might include hundreds of features \n",
    "including income, occupation, credit score, length of employment etcetera.\n",
    "Imagine that they additionally give you video footage of their interview with a lending agent. \n",
    "That might seem like a lot of data! \n",
    "\n",
    "Now suppose that after generating an enormous set of features,\n",
    "you discover that of the 5 applicants who defaults, \n",
    "all 5 were wearing blue shirts during their interviews,\n",
    "while only 40% of general population wore blue shirts. \n",
    "There's a good chance that any model you train would pick up on this signal \n",
    "and use it as an important part of its learned pattern.\n",
    "\n",
    "Even if defaulters are no more likely to wear blue shirts, \n",
    "there's a 1% chance that we'll observe all five defaulters wearing blue shirts.\n",
    "And keeping the sample size low while we have hundreds or thousands of features,\n",
    "we may observe a large number of spurious correlations. \n",
    "Given trillions of training examples, these false associations might disappear. \n",
    "But we seldom have that luxury.\n",
    "\n",
    "The phenomena of fitting our training distribution more closely than the real distribution\n",
    "is called *overfitting*, and the techniques used to combat overfitting are called regularization.\n",
    "In the previous chapter, we introduced one classical approach to regularize statistical models. \n",
    "We penalized the size (the $\\ell^2$ norm) of the weights, coercing them to take smaller values.\n",
    "In probabilistic terms we might say this imposes a Gaussian prior on the value of the weights. \n",
    "But in more intuitive, functional terms, we can say this encourages the model to spread out its weights among many features and not to depend too much on a small number of potentially spurious associations. "
   ]
  },
  {
   "cell_type": "markdown",
   "metadata": {},
   "source": [
    "## With great flexibility comes overfitting liability\n",
    "\n",
    "Given many more features than examples, linear models can overfit. \n",
    "But when there are many more examples than features, \n",
    "linear models can usually be counted on not to overfit.\n",
    "Unfortunately this propensity to generalize well comes at a cost. \n",
    "For every feature, a linear model has to assign it either positive or negative weight.\n",
    "Linear models can't take into account nuanced interactions between features.\n",
    "In more formal texts, you'll see this phenomena discussed as the bias-variance tradeoff.\n",
    "Linear models have high bias, (they can only represent a small class of functions),\n",
    "but low variance (they give similar results across different random samples of the data).\n",
    "[**point to more formal discussion of generalization when chapter exists**]\n",
    "\n",
    "Deep neural networks, however, occupy the opposite end of the bias-variance spectrum.\n",
    "Neural networks are so flexible because they aren't confined to looking at each feature individually.\n",
    "Instead, they can learn complex interactions among groups of features. \n",
    "For example, they might infer that \"Nigeria\" and \"Western Union\" \n",
    "appearing together in an email indicates spam \n",
    "but that \"Nigeria\" without \"Western Union\" does not connote spam. \n",
    "\n",
    "Even for a small number of features, deep neural networks are capable of overfitting.\n",
    "As one demonstration of the incredible flexibility of neural networks,\n",
    "researchers showed that [neural networks perfectly classify randomly labeled data](https://arxiv.org/abs/1611.03530).\n",
    "Let's think about what means. \n",
    "If the labels are assigned uniformly at random, and there are 10 classes, \n",
    "then no classifier can get better than 10% accuracy on holdout data. \n",
    "Yet even in these situations, when there is no true pattern to be learned, \n",
    "neural networks can perfectly fit the training labels. "
   ]
  },
  {
   "cell_type": "markdown",
   "metadata": {},
   "source": [
    "## Dropping out activations\n",
    "\n",
    "In 2012, Professor Geoffrey Hinton and his students including Nitish Srivastava \n",
    "introduced a new idea for how to regularize neural network models. \n",
    "The intuition goes something like this. \n",
    "When a neural network overfits badly to training data,\n",
    "each layer depends too heavily on the exact configuration\n",
    "of features in the previous layer. \n",
    "\n",
    "To prevent the neural network from depending too much on any exact activation pathway,\n",
    "Hinton and Srivastava proposed randomly *dropping out* (i.e. setting to $0$) \n",
    "the hidden nodes in every layer with probability $.5$.\n",
    "Given a network with $n$ nodes we are sampling uniformly at random from the $2^n$ \n",
    "networks in which a subset of the nodes are turned off. \n",
    "\n",
    "<center>![](../img/dropout.png)</center>\n",
    "\n",
    "One intuition here is that because the nodes to drop out are chosen randomly on every pass,\n",
    "the representations in each layer can't depend on the exact values taken by nodes in the previous layer. \n",
    "\n",
    "## Making predictions with dropout models\n",
    "\n",
    "However, when it comes time to make predictions, \n",
    "we want to use the full representational power of our model. \n",
    "In other words, we don't want to drop out activations at test time.\n",
    "One principled way to justify the use of all nodes simultaneously,\n",
    "despite not training in this fashion,\n",
    "is that it's a form of model averaging. \n",
    "At each layer we average the representations of all of the $2^n$ dropout networks.\n",
    "Because each node has a $.5$ probability of being on during training, \n",
    "its vote is scaled by $.5$ when we use all nodes at prediction time"
   ]
  },
  {
   "cell_type": "code",
   "execution_count": 1,
   "metadata": {},
   "outputs": [
    {
     "data": {
      "text/plain": [
       "'cuda'"
      ]
     },
     "execution_count": 1,
     "metadata": {},
     "output_type": "execute_result"
    }
   ],
   "source": [
    "# import PyTorch and its related packages\n",
    "import torch as T\n",
    "import torch.nn as nn\n",
    "import torch.optim as optim\n",
    "import torch.nn.functional as F\n",
    "\n",
    "import torchvision\n",
    "import torchvision.transforms as transforms\n",
    "\n",
    "# set default device based on CUDA's availability\n",
    "device = 'cuda' if T.cuda.is_available() else 'cpu'\n",
    "device"
   ]
  },
  {
   "cell_type": "markdown",
   "metadata": {},
   "source": [
    "## The CIFAR10 dataset\n",
    "\n",
    "This time we're going to work with real data, each a 32 by 32 by 3 small RGB image contains a specific object.\n",
    "\n",
    "To start, we'll use PyTorch's utility for grabbing a copy of this dataset."
   ]
  },
  {
   "cell_type": "code",
   "execution_count": 2,
   "metadata": {},
   "outputs": [
    {
     "name": "stdout",
     "output_type": "stream",
     "text": [
      "Files already downloaded and verified\n",
      "Files already downloaded and verified\n"
     ]
    }
   ],
   "source": [
    "transform = transforms.Compose(\n",
    "    [transforms.ToTensor(),\n",
    "     transforms.Normalize((0.5, 0.5, 0.5), (0.5, 0.5, 0.5))])\n",
    "\n",
    "batch_size = 32\n",
    "image_size = (32, 32, 3)\n",
    "\n",
    "train_set = torchvision.datasets.CIFAR10(root='./data', train=True,\n",
    "                                        download=True, transform=transform)\n",
    "train_loader = T.utils.data.DataLoader(train_set, batch_size=batch_size,\n",
    "                                          shuffle=True, num_workers=2)\n",
    "\n",
    "test_set = torchvision.datasets.CIFAR10(root='./data', train=False,\n",
    "                                       download=True, transform=transform)\n",
    "test_loader = T.utils.data.DataLoader(test_set, batch_size=batch_size,\n",
    "                                         shuffle=False, num_workers=2)\n",
    "\n",
    "classes = ('plane', 'car', 'bird', 'cat',\n",
    "           'deer', 'dog', 'frog', 'horse', 'ship', 'truck')"
   ]
  },
  {
   "cell_type": "code",
   "execution_count": 3,
   "metadata": {},
   "outputs": [],
   "source": [
    "criterion = nn.CrossEntropyLoss()"
   ]
  },
  {
   "cell_type": "code",
   "execution_count": 4,
   "metadata": {},
   "outputs": [],
   "source": [
    "n_in = image_size[0] * image_size[1] * image_size[2]\n",
    "n_h1 = 512\n",
    "n_o = 10\n",
    "\n",
    "class DropoutMultilayerPerceptron(nn.Module):\n",
    "    def __init__(self, **kwargs):\n",
    "        super(DropoutMultilayerPerceptron, self).__init__(**kwargs)\n",
    "        self.dense_1 = T.nn.Linear(n_in, n_h1)\n",
    "        self.dense_2 = T.nn.Linear(n_h1, n_o)\n",
    "        \n",
    "    def forward(self, x, training=False):\n",
    "        x = x.view(-1, n_in)\n",
    "        x = F.relu(self.dense_1(x))\n",
    "        # dropout added!\n",
    "        x = F.dropout(x, p=0.5, training=training)\n",
    "        x = self.dense_2(x)\n",
    "        return x"
   ]
  },
  {
   "cell_type": "code",
   "execution_count": 5,
   "metadata": {},
   "outputs": [],
   "source": [
    "net = DropoutMultilayerPerceptron()\n",
    "net.to(device)\n",
    "\n",
    "# also the optimizer\n",
    "optimizer = optim.SGD(net.parameters(), lr=0.001, momentum=0.9)"
   ]
  },
  {
   "cell_type": "code",
   "execution_count": 6,
   "metadata": {},
   "outputs": [
    {
     "name": "stdout",
     "output_type": "stream",
     "text": [
      "\n",
      "Epoch: 4\n",
      "Train Acc. => 46.976% | Train Loss => 1.51777\n",
      "Test Acc.  => 49.170% | Test Loss  => 1.45844\n",
      "\n",
      "Epoch: 8\n",
      "Train Acc. => 51.602% | Train Loss => 1.39635\n",
      "Test Acc.  => 51.990% | Test Loss  => 1.37819\n",
      "\n",
      "Epoch: 12\n",
      "Train Acc. => 54.174% | Train Loss => 1.32299\n",
      "Test Acc.  => 53.450% | Test Loss  => 1.33764\n",
      "\n",
      "Epoch: 16\n",
      "Train Acc. => 56.122% | Train Loss => 1.26317\n",
      "Test Acc.  => 54.350% | Test Loss  => 1.30485\n",
      "\n",
      "Epoch: 20\n",
      "Train Acc. => 57.834% | Train Loss => 1.21401\n",
      "Test Acc.  => 54.820% | Test Loss  => 1.29653\n",
      "\n",
      "Epoch: 24\n",
      "Train Acc. => 59.486% | Train Loss => 1.16957\n",
      "Test Acc.  => 54.770% | Test Loss  => 1.28467\n",
      "\n",
      "Epoch: 28\n",
      "Train Acc. => 60.654% | Train Loss => 1.13399\n",
      "Test Acc.  => 55.280% | Test Loss  => 1.28197\n",
      "\n",
      "Epoch: 32\n",
      "Train Acc. => 61.968% | Train Loss => 1.09793\n",
      "Test Acc.  => 55.320% | Test Loss  => 1.27956\n",
      "Finished Training\n"
     ]
    }
   ],
   "source": [
    "train_loss = []\n",
    "test_loss = []\n",
    "train_acc = []\n",
    "test_acc = []\n",
    "\n",
    "for epoch in range(1, 33):  # loop over the dataset multiple times\n",
    "    \n",
    "    running_loss = .0\n",
    "    correct = 0\n",
    "    total = 0\n",
    "    for i, data in enumerate(train_loader):\n",
    "        # get the inputs\n",
    "        inputs, labels = data\n",
    "        if device == 'cuda':\n",
    "            inputs, labels = inputs.to(device), labels.to(device)\n",
    "\n",
    "        # reset the parameter gradients\n",
    "        optimizer.zero_grad()\n",
    "\n",
    "        # forward\n",
    "        outputs = net(inputs, training=True)\n",
    "        loss = criterion(outputs, labels)\n",
    "        # backward\n",
    "        loss.backward()\n",
    "        # optimize\n",
    "        optimizer.step()\n",
    "        \n",
    "        running_loss += loss.item()\n",
    "        _, predicted = T.max(outputs.data, 1)\n",
    "        total += labels.size(0)\n",
    "        correct += (predicted == labels).sum().item()\n",
    "        \n",
    "    running_loss /= len(train_loader)\n",
    "    train_loss.append(running_loss)\n",
    "    running_acc = correct / total\n",
    "    train_acc.append(running_acc)\n",
    "    \n",
    "    if epoch % 4 == 0:\n",
    "        print('\\nEpoch: {}'.format(epoch))\n",
    "        print('Train Acc. => {:.3f}%'.format(100 * running_acc), end=' | ')\n",
    "        print('Train Loss => {:.5f}'.format(running_loss))\n",
    "    \n",
    "    # evaluate on the test set\n",
    "    # note this is usually performed on the validation set\n",
    "    # for simplicity we just evaluate it on the test set\n",
    "    with T.no_grad():\n",
    "        correct = 0\n",
    "        total = 0\n",
    "        test_running_loss = .0\n",
    "        for data in test_loader:\n",
    "            inputs, labels = data\n",
    "            if device == 'cuda':\n",
    "                inputs, labels = inputs.to(device), labels.to(device)\n",
    "            outputs = net(inputs)\n",
    "            loss = criterion(outputs, labels)\n",
    "            test_running_loss += loss.item()\n",
    "            _, predicted = T.max(outputs.data, 1)\n",
    "            total += labels.size(0)\n",
    "            correct += (predicted == labels).sum().item()\n",
    "\n",
    "        test_running_loss /= len(test_loader)\n",
    "        test_loss.append(test_running_loss)\n",
    "        test_running_acc = correct / total\n",
    "        test_acc.append(test_running_acc)\n",
    "        \n",
    "        if epoch % 4 == 0:\n",
    "            print('Test Acc.  => {:.3f}%'.format(100 * test_running_acc), end=' | ')\n",
    "            print('Test Loss  => {:.5f}'.format(test_running_loss))\n",
    "\n",
    "print('Finished Training')"
   ]
  },
  {
   "cell_type": "markdown",
   "metadata": {},
   "source": [
    "## Conclusion\n",
    "\n",
    "Nice! By adding a dropout layer with p=0.4, we can achieve higher accuracy than before on this task."
   ]
  },
  {
   "cell_type": "markdown",
   "metadata": {},
   "source": [
    "## Visualization"
   ]
  },
  {
   "cell_type": "code",
   "execution_count": 7,
   "metadata": {},
   "outputs": [],
   "source": [
    "import matplotlib.pyplot as plt"
   ]
  },
  {
   "cell_type": "code",
   "execution_count": 8,
   "metadata": {},
   "outputs": [
    {
     "data": {
      "image/png": "[encoded data removed]",
      "text/plain": [
       "<Figure size 432x288 with 1 Axes>"
      ]
     },
     "metadata": {},
     "output_type": "display_data"
    }
   ],
   "source": [
    "plt.plot(train_loss, label='train')\n",
    "plt.plot(test_loss, label='test')\n",
    "plt.legend()\n",
    "plt.show()"
   ]
  },
  {
   "cell_type": "code",
   "execution_count": 9,
   "metadata": {},
   "outputs": [
    {
     "data": {
      "image/png": "[encoded data removed]",
      "text/plain": [
       "<Figure size 432x288 with 1 Axes>"
      ]
     },
     "metadata": {},
     "output_type": "display_data"
    }
   ],
   "source": [
    "plt.plot(train_acc, label='train')\n",
    "plt.plot(test_acc, label='test')\n",
    "plt.legend()\n",
    "plt.show()"
   ]
  }
 ],
 "metadata": {
  "kernelspec": {
   "display_name": "Python 3",
   "language": "python",
   "name": "python3"
  },
  "language_info": {
   "codemirror_mode": {
    "name": "ipython",
    "version": 3
   },
   "file_extension": ".py",
   "mimetype": "text/x-python",
   "name": "python",
   "nbconvert_exporter": "python",
   "pygments_lexer": "ipython3",
   "version": "3.6.5"
  }
 },
 "nbformat": 4,
 "nbformat_minor": 2
}
